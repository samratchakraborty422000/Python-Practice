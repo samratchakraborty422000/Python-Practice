{
  "nbformat": 4,
  "nbformat_minor": 0,
  "metadata": {
    "colab": {
      "provenance": []
    },
    "kernelspec": {
      "name": "python3",
      "display_name": "Python 3"
    },
    "language_info": {
      "name": "python"
    }
  },
  "cells": [
    {
      "cell_type": "markdown",
      "source": [
        "# Multiprocessing in python"
      ],
      "metadata": {
        "id": "606168Yhow4c"
      }
    },
    {
      "cell_type": "markdown",
      "source": [
        "Multiprocessing in Python is a way to run multiple processes simultaneously, allowing Python programs to take advantage of multiple CPU cores for true parallelism."
      ],
      "metadata": {
        "id": "CsLtLCr0ovqF"
      }
    },
    {
      "cell_type": "code",
      "source": [
        "#importing the  module\n",
        "import multiprocessing"
      ],
      "metadata": {
        "id": "pwDMdt_-o6he"
      },
      "execution_count": 1,
      "outputs": []
    },
    {
      "cell_type": "code",
      "source": [
        "def test():\n",
        "    print(\"this is my multiprocessing programme\")\n",
        "\n",
        "if __name__ ==\"__main__\":\n",
        "    m=multiprocessing.Process(target=test)\n",
        "    print(\"this is my main programme starting\")\n",
        "    m.start() #starting the child process\n",
        "    m.join() # wait until the child process terminates\n",
        "    print(\"this is my main programme ending\")\n",
        "\n",
        "\n"
      ],
      "metadata": {
        "colab": {
          "base_uri": "https://localhost:8080/"
        },
        "id": "Bu6kP0vhpJDM",
        "outputId": "90081f4f-103b-403b-ff17-5f01bbfa4aa0"
      },
      "execution_count": 13,
      "outputs": [
        {
          "output_type": "stream",
          "name": "stdout",
          "text": [
            "this is my main programme starting\n",
            "this is my multiprocessing programme\n",
            "this is my main programme ending\n"
          ]
        }
      ]
    },
    {
      "cell_type": "markdown",
      "source": [
        "### without join()"
      ],
      "metadata": {
        "id": "ok5KCglarluc"
      }
    },
    {
      "cell_type": "code",
      "source": [
        "def test2():\n",
        "    print(\"this is my multiprocessing programme\")\n",
        "\n",
        "if __name__ ==\"__main__\":\n",
        "    m=multiprocessing.Process(target=test)\n",
        "    print(\"without join()\")\n",
        "    print(\"this is my main programme starting\")\n",
        "    m.start() #starting the child process\n",
        "    print(\"this is my main programme ending\")"
      ],
      "metadata": {
        "colab": {
          "base_uri": "https://localhost:8080/"
        },
        "id": "WSbHmoPvrBRC",
        "outputId": "d275f967-675b-4205-842a-529c0a029d83"
      },
      "execution_count": 14,
      "outputs": [
        {
          "output_type": "stream",
          "name": "stdout",
          "text": [
            "without join()\n",
            "this is my main programme starting\n",
            "this is my main programme ending\n",
            "this is my multiprocessing programme"
          ]
        }
      ]
    },
    {
      "cell_type": "markdown",
      "source": [
        "the main program does not wait for test2 to finish — it just continues executing the next lines immediately."
      ],
      "metadata": {
        "id": "PqE9Uk8lrat3"
      }
    },
    {
      "cell_type": "markdown",
      "source": [
        "### multiprocessing.Pool()"
      ],
      "metadata": {
        "id": "oGk42ZDytb3s"
      }
    },
    {
      "cell_type": "code",
      "source": [
        "def square(n):\n",
        "    return n**2\n",
        "\n",
        "if __name__==\"__main__\":\n",
        "    with multiprocessing.Pool(processes=5) as pool:\n",
        "        out=pool.map(square,[3,4,5,6,7,8,9,10])\n",
        "        print(out)"
      ],
      "metadata": {
        "colab": {
          "base_uri": "https://localhost:8080/"
        },
        "id": "rvHtDgMerdHb",
        "outputId": "524a0ff8-b3cf-4d09-cb44-5751311abbb8"
      },
      "execution_count": 15,
      "outputs": [
        {
          "output_type": "stream",
          "name": "stdout",
          "text": [
            "[9, 16, 25, 36, 49, 64, 81, 100]\n"
          ]
        }
      ]
    },
    {
      "cell_type": "markdown",
      "source": [
        "Pool will distribute the square functions which will be applied to each element of the array in 5 processes parallelly,\n",
        "this is faster than normal processing.we can adjust the processes number. in short Pool will create a pool of processes and Process will create only one process at a time"
      ],
      "metadata": {
        "id": "lBPBTkaxsXDr"
      }
    },
    {
      "cell_type": "markdown",
      "source": [
        "### multiprocessing.Queue()"
      ],
      "metadata": {
        "id": "1OX4Ll0Ftkc9"
      }
    },
    {
      "cell_type": "markdown",
      "source": [
        "The multiprocessing.Queue is used in Python to share data safely between multiple processes"
      ],
      "metadata": {
        "id": "BczAYRu8wA3O"
      }
    },
    {
      "cell_type": "code",
      "source": [
        "def producer(q):\n",
        "    for i in range(5):\n",
        "        item = f\"Item {i}\"\n",
        "        print(f\"producer is putting {item} in queue.\")\n",
        "        q.put(item)\n",
        "    q.put(None)  # to tell consumer to stop\n",
        "\n",
        "def consumer(q):\n",
        "    while True:\n",
        "        item = q.get()\n",
        "        if item is None:\n",
        "            print(\"Consumer Received indication to stop .\")\n",
        "            break\n",
        "        print(f\"consumer gets {item} from queue.\")\n",
        "\n",
        "if __name__ == \"__main__\":\n",
        "    queue = multiprocessing.Queue()\n",
        "    p = multiprocessing.Process(target=producer, args=(queue,)) # Creating producer process\n",
        "    c = multiprocessing.Process(target=consumer, args=(queue,)) # creating consumer process\n",
        "    p.start()\n",
        "    c.start()\n",
        "    queue.put(\"\\n new item 5\") # we  are directly putting it in queue\n",
        "    p.join()\n",
        "    c.join()\n",
        "    print(\"Main process completed.\")\n"
      ],
      "metadata": {
        "colab": {
          "base_uri": "https://localhost:8080/"
        },
        "id": "I_-AGu2ys4ib",
        "outputId": "51dc9ee8-cd3b-430c-e594-44d8a8fa07a8"
      },
      "execution_count": 22,
      "outputs": [
        {
          "output_type": "stream",
          "name": "stdout",
          "text": [
            "producer is putting Item 0 in queue.\n",
            "producer is putting Item 1 in queue.\n",
            "producer is putting Item 2 in queue.\n",
            "consumer gets Item 0 from queue.producer is putting Item 3 in queue.\n",
            "consumer gets \n",
            " new item 5 from queue.\n",
            "\n",
            "consumer gets Item 1 from queue.producer is putting Item 4 in queue.\n",
            "\n",
            "consumer gets Item 2 from queue.\n",
            "consumer gets Item 3 from queue.\n",
            "consumer gets Item 4 from queue.\n",
            "Consumer Received indication to stop .\n",
            "Main process completed.\n"
          ]
        }
      ]
    },
    {
      "cell_type": "markdown",
      "source": [
        "you can see the out of order outputs as not Time() module is used"
      ],
      "metadata": {
        "id": "dj7nOlwAx6we"
      }
    },
    {
      "cell_type": "code",
      "source": [
        "import multiprocessing\n",
        "import time\n",
        "\n",
        "def producer(q):\n",
        "    for i in range(5):\n",
        "        item = f\"Item {i}\"\n",
        "        print(f\"Producer is putting {item} in queue.\", flush=True)\n",
        "        q.put(item)\n",
        "        time.sleep(1)  # using sleep to delay\n",
        "    q.put(None)\n",
        "\n",
        "def consumer(q):\n",
        "    while True:\n",
        "        item = q.get()\n",
        "        if item is None:\n",
        "            print(\"Consumer received indication to stop.\", flush=True)\n",
        "            break\n",
        "        print(f\"Consumer gets {item} from queue.\", flush=True)\n",
        "        time.sleep(1)\n",
        "\n",
        "if __name__ == \"__main__\":\n",
        "    queue = multiprocessing.Queue()\n",
        "    p = multiprocessing.Process(target=producer, args=(queue,))\n",
        "    c = multiprocessing.Process(target=consumer, args=(queue,))\n",
        "    p.start()\n",
        "    c.start()\n",
        "\n",
        "    p.join()\n",
        "    c.join()\n",
        "\n",
        "    print(\"Main process completed.\", flush=True)\n"
      ],
      "metadata": {
        "colab": {
          "base_uri": "https://localhost:8080/"
        },
        "id": "DHKZbkNmyCbX",
        "outputId": "b8456067-f2fd-4cd0-cd9a-415f653ac41e"
      },
      "execution_count": 24,
      "outputs": [
        {
          "output_type": "stream",
          "name": "stdout",
          "text": [
            "Producer is putting Item 0 in queue.\n",
            "Consumer gets Item 0 from queue.\n",
            "Producer is putting Item 1 in queue.\n",
            "Consumer gets Item 1 from queue.\n",
            "Producer is putting Item 2 in queue.\n",
            "Consumer gets Item 2 from queue.\n",
            "Producer is putting Item 3 in queue.\n",
            "Consumer gets Item 3 from queue.\n",
            "Producer is putting Item 4 in queue.\n",
            "Consumer gets Item 4 from queue.\n",
            "Consumer received indication to stop.\n",
            "Main process completed.\n"
          ]
        }
      ]
    },
    {
      "cell_type": "markdown",
      "source": [
        "### Multiprocessing.Array()"
      ],
      "metadata": {
        "id": "dKEShA5RzYL-"
      }
    },
    {
      "cell_type": "markdown",
      "source": [
        "multiprocessing.Array() is a shared memory container.\n",
        "\n",
        "It allows multiple processes to safely read and write to the same array.\n",
        "\n",
        "Without it, each process would have its own copy of data, and changes wouldn't be shared."
      ],
      "metadata": {
        "id": "-dhrC6npz7bL"
      }
    },
    {
      "cell_type": "code",
      "source": [
        "import multiprocessing\n",
        "\n",
        "def square(index , value ):\n",
        "    value[index] = value[index] **2\n",
        "\n",
        "if __name__ == '__main__':\n",
        "    arr = multiprocessing.Array('i', [2,3,6,7,8,9],lock=True)\n",
        "    process = []\n",
        "    for i in range(6) :\n",
        "        m = multiprocessing.Process(target=square , args = (i ,arr ))\n",
        "        process.append(m)\n",
        "        m.start()\n",
        "    for m in process:\n",
        "        m.join()\n",
        "    print(list(arr))"
      ],
      "metadata": {
        "colab": {
          "base_uri": "https://localhost:8080/"
        },
        "id": "OM_I80u3zcRx",
        "outputId": "52ca64a2-8f82-4c0b-f0e2-85a9b1449dfe"
      },
      "execution_count": 31,
      "outputs": [
        {
          "output_type": "stream",
          "name": "stdout",
          "text": [
            "[4, 9, 36, 49, 64, 81]\n"
          ]
        }
      ]
    },
    {
      "cell_type": "markdown",
      "source": [
        "### multiprocessing.Pipe()"
      ],
      "metadata": {
        "id": "eq-CsXT_0-Se"
      }
    },
    {
      "cell_type": "markdown",
      "source": [
        "It’s a way to create a communication channel between two processes"
      ],
      "metadata": {
        "id": "T5RMep7n0_oP"
      }
    },
    {
      "cell_type": "code",
      "source": [
        "import multiprocessing\n",
        "\n",
        "def sender(conn, msg):\n",
        "    for i in msg:\n",
        "        conn.send(i)\n",
        "    conn.send(None)  # to indicate no more messages\n",
        "    conn.close()\n",
        "\n",
        "def receiver(conn):\n",
        "    while True:\n",
        "        msg = conn.recv()\n",
        "        if msg is None:  # termination\n",
        "            break\n",
        "        print(msg)\n",
        "    conn.close()\n",
        "\n",
        "if __name__ == '__main__':\n",
        "    msg = [\"my name is samrat\",\"I am a mca student\",\"I love biryani\"]\n",
        "\n",
        "    parent_conn, child_conn = multiprocessing.Pipe()\n",
        "\n",
        "    m1 = multiprocessing.Process(target=sender, args=(child_conn, msg))\n",
        "    m2 = multiprocessing.Process(target=receiver, args=(parent_conn,))\n",
        "\n",
        "    m1.start()\n",
        "    m2.start()\n",
        "\n",
        "    m1.join()\n",
        "    m2.join()\n",
        "\n",
        "    # Close connections in the main process\n",
        "    parent_conn.close()\n",
        "    child_conn.close()\n"
      ],
      "metadata": {
        "colab": {
          "base_uri": "https://localhost:8080/"
        },
        "id": "6qvEK0zB1Hgd",
        "outputId": "11e7c387-b572-4e76-aeff-bde32591c35c"
      },
      "execution_count": 36,
      "outputs": [
        {
          "output_type": "stream",
          "name": "stdout",
          "text": [
            "my name is samrat\n",
            "I am a mca student\n",
            "I love biryani\n"
          ]
        }
      ]
    }
  ]
}